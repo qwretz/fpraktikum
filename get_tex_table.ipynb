{
 "cells": [
  {
   "cell_type": "code",
   "execution_count": 1,
   "metadata": {},
   "outputs": [],
   "source": [
    "def get_table(head_list,columns):  #Input: 1. Liste der Spalten-Bez.\n",
    "                                        # 2. Liste von Listen mit Spalteneinträgen\n",
    "    num_col = len(head_list)\n",
    "    num_row = len(columns[0])\n",
    "    \n",
    "    header = '{}'\n",
    "    rows = '{}'\n",
    "    tab = '{|c|'\n",
    "    for i in range(1,num_col):\n",
    "        header += ' & {}'\n",
    "        rows += ' & {}'\n",
    "        tab += 'c|'\n",
    "    header += ' \\\\\\ \\hline\\hline'\n",
    "    rows += ' \\\\\\ \\hline'\n",
    "    tab += '}'\n",
    "    \n",
    "    \n",
    "    print('\\\\begin{table}[H]\\n\\\\centering')\n",
    "    print('\\\\begin{}{}\\n\\\\hline'.format('{tabular}',tab))\n",
    "    print(header.format(*head_list))\n",
    "    for i in range(num_row):\n",
    "        row = []\n",
    "        for j in range(num_col):\n",
    "            row.append(columns[j][i]) \n",
    "        print(rows.format(*row))\n",
    "    print('\\\\hline\\n\\\\end{tabular}\\n\\\\caption{\\label{}}\\n\\\\end{table}')"
   ]
  },
  {
   "cell_type": "code",
   "execution_count": 3,
   "metadata": {},
   "outputs": [
    {
     "name": "stdout",
     "output_type": "stream",
     "text": [
      "\\begin{table}[H]\n",
      "\\centering\n",
      "\\begin{tabular}{|c|c|c|}\n",
      "\\hline\n",
      "Hallo & Du & Da \\\\ \\hline\\hline\n",
      "1 & 4 & 7 \\\\ \\hline\n",
      "2 & 5 & 8 \\\\ \\hline\n",
      "3 & 6 & 9 \\\\ \\hline\n",
      "\\hline\n",
      "\\end{tabular}\n",
      "\\caption{\\label{}}\n",
      "\\end{table}\n"
     ]
    }
   ],
   "source": [
    "# example\n",
    "\n",
    "heads = ['Hallo','Du','Da']\n",
    "cols = [[1,2,3],[4,5,6],[7,8,9]]\n",
    "\n",
    "get_table(heads,cols)"
   ]
  },
  {
   "cell_type": "code",
   "execution_count": null,
   "metadata": {
    "collapsed": true
   },
   "outputs": [],
   "source": []
  }
 ],
 "metadata": {
  "kernelspec": {
   "display_name": "Python 3",
   "language": "python",
   "name": "python3"
  },
  "language_info": {
   "codemirror_mode": {
    "name": "ipython",
    "version": 3
   },
   "file_extension": ".py",
   "mimetype": "text/x-python",
   "name": "python",
   "nbconvert_exporter": "python",
   "pygments_lexer": "ipython3",
   "version": "3.5.3"
  }
 },
 "nbformat": 4,
 "nbformat_minor": 2
}
