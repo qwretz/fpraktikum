{
 "cells": [
  {
   "cell_type": "code",
   "execution_count": 50,
   "metadata": {},
   "outputs": [],
   "source": [
    "%matplotlib inline\n",
    "import matplotlib.pyplot as plt\n",
    "import numpy as np\n",
    "import scipy as sc\n",
    "import scipy.optimize as sco\n",
    "import scipy.constants as c\n",
    "from scipy.optimize import curve_fit as curce_fit\n",
    "import pandas as pd\n",
    "\n",
    "def degtorad(deg):\n",
    "    return(deg/180*np.pi)"
   ]
  },
  {
   "cell_type": "code",
   "execution_count": 51,
   "metadata": {},
   "outputs": [
    {
     "data": {
      "text/html": [
       "<div>\n",
       "<style scoped>\n",
       "    .dataframe tbody tr th:only-of-type {\n",
       "        vertical-align: middle;\n",
       "    }\n",
       "\n",
       "    .dataframe tbody tr th {\n",
       "        vertical-align: top;\n",
       "    }\n",
       "\n",
       "    .dataframe thead th {\n",
       "        text-align: right;\n",
       "    }\n",
       "</style>\n",
       "<table border=\"1\" class=\"dataframe\">\n",
       "  <thead>\n",
       "    <tr style=\"text-align: right;\">\n",
       "      <th></th>\n",
       "      <th>winkel</th>\n",
       "      <th>intens</th>\n",
       "    </tr>\n",
       "  </thead>\n",
       "  <tbody>\n",
       "    <tr>\n",
       "      <th>0</th>\n",
       "      <td>0</td>\n",
       "      <td>102.4</td>\n",
       "    </tr>\n",
       "    <tr>\n",
       "      <th>1</th>\n",
       "      <td>5</td>\n",
       "      <td>100.5</td>\n",
       "    </tr>\n",
       "    <tr>\n",
       "      <th>2</th>\n",
       "      <td>10</td>\n",
       "      <td>98.7</td>\n",
       "    </tr>\n",
       "    <tr>\n",
       "      <th>3</th>\n",
       "      <td>15</td>\n",
       "      <td>94.8</td>\n",
       "    </tr>\n",
       "    <tr>\n",
       "      <th>4</th>\n",
       "      <td>20</td>\n",
       "      <td>88.5</td>\n",
       "    </tr>\n",
       "    <tr>\n",
       "      <th>5</th>\n",
       "      <td>25</td>\n",
       "      <td>84.2</td>\n",
       "    </tr>\n",
       "    <tr>\n",
       "      <th>6</th>\n",
       "      <td>30</td>\n",
       "      <td>75.4</td>\n",
       "    </tr>\n",
       "    <tr>\n",
       "      <th>7</th>\n",
       "      <td>35</td>\n",
       "      <td>67.4</td>\n",
       "    </tr>\n",
       "    <tr>\n",
       "      <th>8</th>\n",
       "      <td>40</td>\n",
       "      <td>58.5</td>\n",
       "    </tr>\n",
       "    <tr>\n",
       "      <th>9</th>\n",
       "      <td>45</td>\n",
       "      <td>48.5</td>\n",
       "    </tr>\n",
       "    <tr>\n",
       "      <th>10</th>\n",
       "      <td>50</td>\n",
       "      <td>41.0</td>\n",
       "    </tr>\n",
       "    <tr>\n",
       "      <th>11</th>\n",
       "      <td>55</td>\n",
       "      <td>33.3</td>\n",
       "    </tr>\n",
       "    <tr>\n",
       "      <th>12</th>\n",
       "      <td>60</td>\n",
       "      <td>25.0</td>\n",
       "    </tr>\n",
       "    <tr>\n",
       "      <th>13</th>\n",
       "      <td>65</td>\n",
       "      <td>19.1</td>\n",
       "    </tr>\n",
       "    <tr>\n",
       "      <th>14</th>\n",
       "      <td>70</td>\n",
       "      <td>13.1</td>\n",
       "    </tr>\n",
       "    <tr>\n",
       "      <th>15</th>\n",
       "      <td>75</td>\n",
       "      <td>7.8</td>\n",
       "    </tr>\n",
       "    <tr>\n",
       "      <th>16</th>\n",
       "      <td>80</td>\n",
       "      <td>4.4</td>\n",
       "    </tr>\n",
       "    <tr>\n",
       "      <th>17</th>\n",
       "      <td>85</td>\n",
       "      <td>3.1</td>\n",
       "    </tr>\n",
       "    <tr>\n",
       "      <th>18</th>\n",
       "      <td>90</td>\n",
       "      <td>2.6</td>\n",
       "    </tr>\n",
       "  </tbody>\n",
       "</table>\n",
       "</div>"
      ],
      "text/plain": [
       "    winkel  intens\n",
       "0        0   102.4\n",
       "1        5   100.5\n",
       "2       10    98.7\n",
       "3       15    94.8\n",
       "4       20    88.5\n",
       "5       25    84.2\n",
       "6       30    75.4\n",
       "7       35    67.4\n",
       "8       40    58.5\n",
       "9       45    48.5\n",
       "10      50    41.0\n",
       "11      55    33.3\n",
       "12      60    25.0\n",
       "13      65    19.1\n",
       "14      70    13.1\n",
       "15      75     7.8\n",
       "16      80     4.4\n",
       "17      85     3.1\n",
       "18      90     2.6"
      ]
     },
     "execution_count": 51,
     "metadata": {},
     "output_type": "execute_result"
    }
   ],
   "source": [
    "#Als erstes mal die Linearität der Fotodiode Prüfen\n",
    "data=pd.read_table(\"Data/Polarisation.txt\",skiprows=2)\n",
    "data"
   ]
  },
  {
   "cell_type": "code",
   "execution_count": 52,
   "metadata": {},
   "outputs": [
    {
     "data": {
      "text/plain": [
       "[<matplotlib.lines.Line2D at 0x2aef3dc4b70>]"
      ]
     },
     "execution_count": 52,
     "metadata": {},
     "output_type": "execute_result"
    },
    {
     "data": {
      "image/png": "[encoded data removed]",
      "text/plain": [
       "<matplotlib.figure.Figure at 0x2aef3dc4780>"
      ]
     },
     "metadata": {},
     "output_type": "display_data"
    }
   ],
   "source": [
    "angle=np.array(data.values[:,0])\n",
    "intens=np.array(data.values[:,1])\n",
    "intens=intens/np.max(intens)\n",
    "fig,ax=plt.subplots()\n",
    "ax.plot(np.sin(degtorad(angle))**2,intens,\".\")"
   ]
  },
  {
   "cell_type": "code",
   "execution_count": 65,
   "metadata": {},
   "outputs": [],
   "source": [
    "def dirac(wavelen,T,E_F):\n",
    "    E=c.h * c.c / wavelen /c.e\n",
    "    return 500/ ( np.exp((E-E_F)/8.6e-5 /T) -1 ) # k_B in eV\n",
    "def diracE(E,T,E_F):\n",
    "    return 1/ ( np.exp((E-E_F)/c.k/T) -1 ) \n",
    "\n",
    "def heavi(x,A,b,c):\n",
    "    return A * (np.sign(x-b) + c) # A=amp/2 , b=Eg in nm\n",
    "\n",
    "def expon(x,A,E_g):\n",
    "    E=c.h * c.c / x /c.e\n",
    "    return A * np.exp(E/E_g)\n",
    "def linearfit(linf,x,y,m,b,ymin,ymax):\n",
    "\n",
    "    tempx=[]\n",
    "    tempy=[]\n",
    "    #hier werden die Daten ausgewählt die im richtigen y interval sind\n",
    "    for i in range(len(y)):\n",
    "        if(ymin<y[i] and y[i]<ymax):\n",
    "            tempx.append(x[i])\n",
    "            tempy.append(y[i])\n",
    "    popt,pcov=curce_fit(linf,tempx,tempy,p0=(m,b))\n",
    "    return popt,pcov,tempx,tempy"
   ]
  },
  {
   "cell_type": "code",
   "execution_count": 72,
   "metadata": {
    "scrolled": false
   },
   "outputs": [
    {
     "name": "stderr",
     "output_type": "stream",
     "text": [
      "No handles with labels found to put in legend.\n"
     ]
    },
    {
     "name": "stdout",
     "output_type": "stream",
     "text": [
      "<class 'pandas.core.frame.DataFrame'>\n"
     ]
    },
    {
     "data": {
      "image/png": "[encoded data removed]",
      "text/plain": [
       "<matplotlib.figure.Figure at 0x2aef792b438>"
      ]
     },
     "metadata": {},
     "output_type": "display_data"
    }
   ],
   "source": [
    "\n",
    "data=[]\n",
    "data.append( pd.read_csv(\"Data/{}.txt\".format(\"Links\"),delimiter=\"\\t\",skiprows=1 ))\n",
    "print(type(data[0]))\n",
    "wavelen, intens =[],[]\n",
    "for entry in data:\n",
    "    wavelen= entry.values[:,0]\n",
    "    intens = entry.values[:,1]\n",
    "    \n",
    "\n",
    "wavelen=np.array(wavelen)\n",
    "\n",
    "#Als erstes nur die interessanten werte betrachten, also ab 950nm cutten\n",
    "relwavelen=[]\n",
    "for x in wavelen:\n",
    "    if(x<950):\n",
    "        relwavelen.append(x)\n",
    "relintens=intens[0:len(relwavelen)]\n",
    "\n",
    "fig, ax = plt.subplots(dpi=144)\n",
    "\n",
    "#Data plot\n",
    "ax.plot(relwavelen,relintens)\n",
    "\n",
    "#Fit Steigung\n",
    "linf=lambda x,m,b:m*x+b\n",
    "popt,pcov,tempx,tempy=linearfit(linf,relwavelen,relintens,10,40,40,450)\n",
    "extension=1.2\n",
    "mylin=np.linspace(min(tempx)-extension,max(tempx)+extension)\n",
    "ax.plot(mylin, linf(mylin,*popt))\n",
    "\n",
    "#Fit Gerade\n",
    "#Fit\n",
    "linf=lambda x,m,b:m*x+b\n",
    "popt,pcov,tempx,tempy=linearfit(linf,relwavelen,relintens,10,40,0,40)\n",
    "extension=1.2\n",
    "mylin=np.linspace(min(tempx)-extension,max(tempx)+extension)\n",
    "ax.plot(mylin, linf(mylin,*popt))\n",
    "\n",
    "\n",
    "\n",
    "\n",
    "\n",
    "#ax.plot(xdata,expon(xdata,*popt), label=\"Test: \\n A={o[0]:.2f}$\\pm${e[0]:.2f} \\n $E_g$={o[1]:.2f}$\\pm${e[1]:.2f}\".format(o=popt,e=perr))\n",
    "#ax.plot(xdata, heavi(xdata,*popt), label=\"Heaviside Fit: \\n A={o[0]:.2f}$\\pm${e[0]:.2f} \\n b={o[1]:.2f}$\\pm${e[1]:.2f} \\n c={o[2]:.2f}$\\pm${e[2]:.2f}\".format(o=popt,e=perr))\n",
    "ax.legend();"
   ]
  },
  {
   "cell_type": "code",
   "execution_count": null,
   "metadata": {},
   "outputs": [],
   "source": []
  },
  {
   "cell_type": "code",
   "execution_count": null,
   "metadata": {},
   "outputs": [],
   "source": []
  }
 ],
 "metadata": {
  "kernelspec": {
   "display_name": "Python 3",
   "language": "python",
   "name": "python3"
  },
  "language_info": {
   "codemirror_mode": {
    "name": "ipython",
    "version": 3
   },
   "file_extension": ".py",
   "mimetype": "text/x-python",
   "name": "python",
   "nbconvert_exporter": "python",
   "pygments_lexer": "ipython3",
   "version": "3.6.4"
  }
 },
 "nbformat": 4,
 "nbformat_minor": 2
}
