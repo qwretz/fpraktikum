{
 "cells": [
  {
   "cell_type": "markdown",
   "metadata": {},
   "source": [
    "#Fehlerrechnung/Fehlerfortpflanzung\n",
    "--- No warranty that this works with any function ---<br>\n",
    "#### Jens Wagner 06/2015\n",
    "\n",
    "<a  href=\"http://www.physi.uni-heidelberg.de/Einrichtungen/AP/python/Fehlerrechnung.ipynb\"<font> Download this notebook</font></a>\n"
   ]
  },
  {
   "cell_type": "code",
   "execution_count": 8,
   "metadata": {},
   "outputs": [],
   "source": [
    "import sympy as sp\n",
    "from IPython.display import display, Math, Latex"
   ]
  },
  {
   "cell_type": "code",
   "execution_count": 14,
   "metadata": {},
   "outputs": [],
   "source": [
    "#Hier die Variablen deklarieren/ \"d\" ist reserviert und darf nicht verwendet werden\n",
    "q,D,C,t = sp.symbols('q D C t') #hier Eure Variablennamen einsetzen\n",
    "variablen = [q,D,C,t]         #hier Eure Variablennamen einsetzen\n",
    "#Zahlenwerte und Fehlerwerte\n",
    "variablen_werte = [2.8,4.2,2.4,1]  #Werte h=2.8, r=4.2, T=2.4 /hier Eure Werte einsetzen\n",
    "fehler_werte = [0.3,0.2,0.1,1]     # dito fuer die Fehler /hier Eure Werte einsetzen"
   ]
  },
  {
   "cell_type": "code",
   "execution_count": 15,
   "metadata": {},
   "outputs": [],
   "source": [
    "\"\"\"\"\n",
    "Hier die Funktion deklarieren\n",
    "Potenzen a hoch b: a**b\n",
    "bei Funktionen wie sin, sqrt, etc. den Namensraum \"sp\" vorransetzen z.B. sp.sin()\"\"\"\n",
    "\n",
    "funktion =C*sp.exp(q**2*t*D)"
   ]
  },
  {
   "cell_type": "code",
   "execution_count": 16,
   "metadata": {},
   "outputs": [],
   "source": [
    "fehler = 0\n",
    "fehlersymbole=[]\n",
    "ableitungen_quadr = []\n",
    "\n",
    "for var in variablen:\n",
    "    d = sp.symbols('d' + var.name)        #Symbole fuer die Fehler generieren\n",
    "    fehlersymbole.append(d)               #Fehlersymbole in Liste eintragen\n",
    "    partial = sp.diff(funktion, var) * d  #Partielle Differentation und mit mit Fehlersymbol 'd' multiplizieren\n",
    "    ableitungen_quadr.append(partial**2)  \n",
    "    fehler = fehler + partial**2\n",
    "\n",
    "fehler_abs=sp.simplify(sp.sqrt(fehler))              #Latex Format fuer den absoluten Fehler\n",
    "fehler_rel=sp.simplify(sp.sqrt(fehler/funktion**2))  #Latex Format fuer den relativen Fehler"
   ]
  },
  {
   "cell_type": "code",
   "execution_count": 17,
   "metadata": {},
   "outputs": [],
   "source": [
    "#Berechnung der Zahlenwerte\n",
    "#funktions_wert=sp.Subs(funktion,variablen,variablen_werte).doit() #Variablenwerte (Zahlen) in Formel einsetzen und\n",
    "                                                                  #Funktionswert berechnen\n",
    "#err1=sp.Subs(fehler,variablen,variablen_werte).doit()             #Variablenwerte (Zahlen) in FehlerFormel einsetzen \n",
    "\n",
    "#err2=sp.Subs(err1,fehlersymbole,fehler_werte).doit()              #Variablenwerte (Zahlen) in FehlerFormel einsetzen und\n",
    "                                                                  #Funktionswert berechnen"
   ]
  },
  {
   "cell_type": "code",
   "execution_count": 18,
   "metadata": {
    "scrolled": true
   },
   "outputs": [
    {
     "name": "stdout",
     "output_type": "stream",
     "text": [
      "Funktion:\n"
     ]
    },
    {
     "data": {
      "text/latex": [
       "$$f=C e^{D q^{2} t}$$"
      ],
      "text/plain": [
       "<IPython.core.display.Math object>"
      ]
     },
     "metadata": {},
     "output_type": "display_data"
    },
    {
     "name": "stdout",
     "output_type": "stream",
     "text": [
      "C e^{D q^{2} t}\n",
      "Messwerte:\n"
     ]
    },
    {
     "data": {
      "text/latex": [
       "$$q=2.8\\pm 0.3$$"
      ],
      "text/plain": [
       "<IPython.core.display.Math object>"
      ]
     },
     "metadata": {},
     "output_type": "display_data"
    },
    {
     "data": {
      "text/latex": [
       "$$D=4.2\\pm 0.2$$"
      ],
      "text/plain": [
       "<IPython.core.display.Math object>"
      ]
     },
     "metadata": {},
     "output_type": "display_data"
    },
    {
     "data": {
      "text/latex": [
       "$$C=2.4\\pm 0.1$$"
      ],
      "text/plain": [
       "<IPython.core.display.Math object>"
      ]
     },
     "metadata": {},
     "output_type": "display_data"
    },
    {
     "data": {
      "text/latex": [
       "$$t=1\\pm 1$$"
      ],
      "text/plain": [
       "<IPython.core.display.Math object>"
      ]
     },
     "metadata": {},
     "output_type": "display_data"
    },
    {
     "name": "stdout",
     "output_type": "stream",
     "text": [
      "sqrt((4*C**2*D**2*dq**2*q**2*t**2 + C**2*D**2*dt**2*q**4 + C**2*dD**2*q**4*t**2 + dC**2)*exp(2*D*q**2*t))\n",
      "Absoluter Fehler:\n"
     ]
    },
    {
     "data": {
      "text/latex": [
       "$$\\Delta f=\\sqrt{\\left(4 C^{2} D^{2} \\Delta q^{2} q^{2} t^{2} + C^{2} D^{2} \\Delta t^{2} q^{4} + C^{2} \\Delta D^{2} q^{4} t^{2} + \\Delta C^{2}\\right) e^{2 D q^{2} t}}$$"
      ],
      "text/plain": [
       "<IPython.core.display.Math object>"
      ]
     },
     "metadata": {},
     "output_type": "display_data"
    },
    {
     "name": "stdout",
     "output_type": "stream",
     "text": [
      "Relativer Fehler:\n"
     ]
    },
    {
     "data": {
      "text/latex": [
       "$$\\Delta f/f=\\sqrt{4 D^{2} \\Delta q^{2} q^{2} t^{2} + D^{2} \\Delta t^{2} q^{4} + \\Delta D^{2} q^{4} t^{2} + \\frac{\\Delta C^{2}}{C^{2}}}$$"
      ],
      "text/plain": [
       "<IPython.core.display.Math object>"
      ]
     },
     "metadata": {},
     "output_type": "display_data"
    }
   ],
   "source": [
    "#Latex Darstellungen\n",
    "print('Funktion:')\n",
    "display(Math(\"f=\"+sp.latex(funktion)))\n",
    "print(sp.latex(funktion))\n",
    "print('Messwerte:')\n",
    "for i in range(len(variablen)):\n",
    "    display(Math(str(variablen[i])+'='+ str(variablen_werte[i])+'\\pm '+ str(fehler_werte[i])))  #Messwerte mit Fehler\n",
    "print(fehler_abs)\n",
    "print('Absoluter Fehler:')\n",
    "display(Math(r'\\Delta f='+sp.latex(fehler_abs).replace('d',r'\\Delta ')))   #Formel absoluter Fehler\n",
    "print('Relativer Fehler:')\n",
    "display(Math(r\"\\Delta f/f=\"+sp.latex(fehler_rel).replace('d',r'\\Delta '))) #Formel relativer Fehler\n",
    "#display(Math(\"f= %6.2f \\pm %6.2f\" %(funktions_wert,sp.sqrt(err2))))        #Messwert und Wert des absoluten Fehler\n",
    "#display(Math(\"f= %6.2f \\pm %6.1f %s\" %(funktions_wert,sp.sqrt(err2)/funktions_wert*100,\" \\%\"))) #dito als relativer Fehler"
   ]
  },
  {
   "cell_type": "code",
   "execution_count": null,
   "metadata": {},
   "outputs": [],
   "source": []
  }
 ],
 "metadata": {
  "kernelspec": {
   "display_name": "Python 3",
   "language": "python",
   "name": "python3"
  },
  "language_info": {
   "codemirror_mode": {
    "name": "ipython",
    "version": 3
   },
   "file_extension": ".py",
   "mimetype": "text/x-python",
   "name": "python",
   "nbconvert_exporter": "python",
   "pygments_lexer": "ipython3",
   "version": "3.6.4"
  }
 },
 "nbformat": 4,
 "nbformat_minor": 1
}
